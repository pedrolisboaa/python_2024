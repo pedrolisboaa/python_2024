{
 "cells": [
  {
   "cell_type": "code",
   "execution_count": 1,
   "id": "678a5a1b-b448-4aa7-8e6b-18cf69ce6e81",
   "metadata": {},
   "outputs": [
    {
     "data": {
      "text/plain": [
       "'\\nExercício Análise de Números Inteiros e Reais\\n\\nObjetivo: Desenvolver um programa que obtenha do usuário dois \\nnúmeros inteiros e um número real, e em seguida realize e apresente \\numa série de cálculos e análises relacionadas a esses números.\\n\\nInstruções:\\n\\n    1. Solicite ao usuário dois números inteiros.\\n    2. Solicite ao usuário um número real.\\n    3. Calcule e exiba o produto do dobro do primeiro número com metade do segundo.\\n    4. Calcule e exiba a soma do triplo do primeiro número com o terceiro número.\\n    5. Calcule e exiba o terceiro número elevado ao cubo.\\n    6. Determine e informe se o primeiro número é par ou ímpar.\\n    7. Determine e informe se o terceiro número é positivo, negativo ou zero.\\n    8. Calcule e mostre a média aritmética entre os três números.\\n'"
      ]
     },
     "execution_count": 1,
     "metadata": {},
     "output_type": "execute_result"
    }
   ],
   "source": [
    "import math\n",
    "\"\"\"\n",
    "Exercício Análise de Números Inteiros e Reais\n",
    "\n",
    "Objetivo: Desenvolver um programa que obtenha do usuário dois \n",
    "números inteiros e um número real, e em seguida realize e apresente \n",
    "uma série de cálculos e análises relacionadas a esses números.\n",
    "\n",
    "Instruções:\n",
    "\n",
    "    1. Solicite ao usuário dois números inteiros.\n",
    "    2. Solicite ao usuário um número real.\n",
    "    3. Calcule e exiba o produto do dobro do primeiro número com metade do segundo.\n",
    "    4. Calcule e exiba a soma do triplo do primeiro número com o terceiro número.\n",
    "    5. Calcule e exiba o terceiro número elevado ao cubo.\n",
    "    6. Determine e informe se o primeiro número é par ou ímpar.\n",
    "    7. Determine e informe se o terceiro número é positivo, negativo ou zero.\n",
    "    8. Calcule e mostre a média aritmética entre os três números.\n",
    "\"\"\""
   ]
  },
  {
   "cell_type": "code",
   "execution_count": null,
   "id": "4bac208b-1f6a-4de1-b644-7df79708a5c9",
   "metadata": {},
   "outputs": [],
   "source": [
    "inteiro_1 = int(input('Informe um número inteiro: '))\n",
    "inteiro_2 = int(input('Informe outro número inteiro: '))\n",
    "real = float(input('Informe um número real: '))\n",
    "\n",
    "calculo1 = (inteiro_1 * 2) * (inteiro_2 / 2)\n",
    "print(f'Calcule e exiba o produto do dobro do primeiro número com metade do segundo {calculo1}')\n",
    "\n",
    "calculo2 = (3 * inteiro_1) + real\n",
    "print(f'Calcule e exiba a soma do triplo do primeiro número com o terceiro número {calculo2}')\n",
    "\n",
    "calculo3 = math.pow(real, 3)\n",
    "print(f'Calcule e exiba o terceiro número elevado ao cubo {calculo3}')\n",
    "\n",
    "calculo4 = (inteiro_1 + inteiro_2 + real) / 3\n",
    "print(f'Calcule e mostre a média aritmética entre os três números {calculo4}')"
   ]
  }
 ],
 "metadata": {
  "kernelspec": {
   "display_name": "Python 3 (ipykernel)",
   "language": "python",
   "name": "python3"
  },
  "language_info": {
   "codemirror_mode": {
    "name": "ipython",
    "version": 3
   },
   "file_extension": ".py",
   "mimetype": "text/x-python",
   "name": "python",
   "nbconvert_exporter": "python",
   "pygments_lexer": "ipython3",
   "version": "3.12.0"
  }
 },
 "nbformat": 4,
 "nbformat_minor": 5
}
