{
 "cells": [
  {
   "cell_type": "code",
   "execution_count": 1,
   "id": "678a5a1b-b448-4aa7-8e6b-18cf69ce6e81",
   "metadata": {},
   "outputs": [
    {
     "data": {
      "text/plain": [
       "'\\nExercício Análise de Números Inteiros e Reais\\n\\nObjetivo: Desenvolver um programa que obtenha do usuário dois \\nnúmeros inteiros e um número real, e em seguida realize e apresente \\numa série de cálculos e análises relacionadas a esses números.\\n\\nInstruções:\\n\\n    1. Solicite ao usuário dois números inteiros.\\n    2. Solicite ao usuário um número real.\\n    3. Calcule e exiba o produto do dobro do primeiro número com metade do segundo.\\n    4. Calcule e exiba a soma do triplo do primeiro número com o terceiro número.\\n    5. Calcule e exiba o terceiro número elevado ao cubo.\\n    6. Determine e informe se o primeiro número é par ou ímpar.\\n    7. Determine e informe se o terceiro número é positivo, negativo ou zero.\\n    8. Calcule e mostre a média aritmética entre os três números.\\n'"
      ]
     },
     "execution_count": 1,
     "metadata": {},
     "output_type": "execute_result"
    }
   ],
   "source": [
    "import math\n",
    "\"\"\"\n",
    "Exercício Análise de Números Inteiros e Reais\n",
    "\n",
    "Objetivo: Desenvolver um programa que obtenha do usuário dois \n",
    "números inteiros e um número real, e em seguida realize e apresente \n",
    "uma série de cálculos e análises relacionadas a esses números.\n",
    "\n",
    "Instruções:\n",
    "\n",
    "    1. Solicite ao usuário dois números inteiros.\n",
    "    2. Solicite ao usuário um número real.\n",
    "    3. Calcule e exiba o produto do dobro do primeiro número com metade do segundo.\n",
    "    4. Calcule e exiba a soma do triplo do primeiro número com o terceiro número.\n",
    "    5. Calcule e exiba o terceiro número elevado ao cubo.\n",
    "    6. Determine e informe se o primeiro número é par ou ímpar.\n",
    "    7. Determine e informe se o terceiro número é positivo, negativo ou zero.\n",
    "    8. Calcule e mostre a média aritmética entre os três números.\n",
    "\"\"\""
   ]
  },
  {
   "cell_type": "code",
   "execution_count": 2,
   "id": "4bac208b-1f6a-4de1-b644-7df79708a5c9",
   "metadata": {},
   "outputs": [
    {
     "name": "stdin",
     "output_type": "stream",
     "text": [
      "Informe um número inteiro:  10\n",
      "Informe outro número inteiro:  5\n",
      "Informe um número real:  8\n"
     ]
    },
    {
     "name": "stdout",
     "output_type": "stream",
     "text": [
      "Calcule e exiba o produto do dobro do primeiro número com metade do segundo 50.0\n",
      "Calcule e exiba a soma do triplo do primeiro número com o terceiro número 38.0\n",
      "Calcule e exiba o terceiro número elevado ao cubo 512.0\n",
      "Calcule e mostre a média aritmética entre os três números 7.666666666666667\n"
     ]
    }
   ],
   "source": [
    "inteiro_1 = int(input('Informe um número inteiro: '))\n",
    "inteiro_2 = int(input('Informe outro número inteiro: '))\n",
    "real = float(input('Informe um número real: '))\n",
    "\n",
    "calculo1 = (inteiro_1 * 2) * (inteiro_2 / 2)\n",
    "print(f'Calcule e exiba o produto do dobro do primeiro número com metade do segundo {calculo1}')\n",
    "\n",
    "calculo2 = (3 * inteiro_1) + real\n",
    "print(f'Calcule e exiba a soma do triplo do primeiro número com o terceiro número {calculo2}')\n",
    "\n",
    "calculo3 = math.pow(real, 3)\n",
    "print(f'Calcule e exiba o terceiro número elevado ao cubo {calculo3}')\n",
    "\n",
    "calculo4 = (inteiro_1 + inteiro_2 + real) / 3\n",
    "print(f'Calcule e mostre a média aritmética entre os três números {calculo4}')"
   ]
  },
  {
   "cell_type": "code",
   "execution_count": null,
   "id": "e60afcc0-783e-482b-9630-a714c6d3fd18",
   "metadata": {},
   "outputs": [],
   "source": [
    "\"\"\"\n",
    "Exercício Controle de Empréstimos em uma Biblioteca\n",
    "\n",
    "Objetivo: Desenvolver um programa que auxilie Maria, uma bibliotecária, \n",
    "a controlar o número de livros emprestados por um usuário durante o mês. Para \n",
    "cada dia que o usuário exceder o limite estabelecido de livros pegos, uma multa \n",
    "será aplicada.\n",
    "\n",
    "Instruções:\n",
    "\n",
    "    1. O sistema de biblioteca possui um limite estabelecido de 5 \n",
    "    livros que cada usuário pode pegar por vez.\n",
    "    \n",
    "    2. Para cada livro excedente, o usuário deve pagar uma multa de R$ 2,00.\n",
    "    \n",
    "    3. O programa deve começar solicitando ao usuário o número de \n",
    "    dias em que pegou livros no mês.\n",
    "    \n",
    "    4. Em seguida, para cada um desses dias, o programa deve pedir que \n",
    "    o usuário informe o número de livros pegos.\n",
    "    \n",
    "    5. O sistema deve calcular e exibir o excesso de livros e o valor \n",
    "    da multa para cada dia.\n",
    "    \n",
    "    6. Ao final, o programa deve mostrar o total de livros excedentes e \n",
    "    o total da multa acumulada no mês.\n",
    "    \n",
    "    7. Se, ao final do mês, o usuário não tiver excedido o limite em nenhum dia, \n",
    "    o programa deve mostrar uma mensagem de parabenização por seguir as regras.\n",
    "\n",
    "Observação: O programa deve considerar que o usuário informará dados válidos, ou seja, \n",
    "valores inteiros não-negativos para o número de dias e o número de livros pegos em cada dia.\n",
    "\"\"\""
   ]
  },
  {
   "cell_type": "code",
   "execution_count": 3,
   "id": "e13b3bcc-0ef5-4b49-91ed-0df4af73470d",
   "metadata": {},
   "outputs": [
    {
     "name": "stdin",
     "output_type": "stream",
     "text": [
      "Informe o número de dias em que você pegou livros neste mês:  3\n",
      "Quantos livros você pegou no dia 1?  5\n"
     ]
    },
    {
     "name": "stdout",
     "output_type": "stream",
     "text": [
      "\n",
      "No dia 1, você não excedeu o limite de livros.\n"
     ]
    },
    {
     "name": "stdin",
     "output_type": "stream",
     "text": [
      "Quantos livros você pegou no dia 2?  1\n"
     ]
    },
    {
     "name": "stdout",
     "output_type": "stream",
     "text": [
      "\n",
      "No dia 2, você não excedeu o limite de livros.\n"
     ]
    },
    {
     "name": "stdin",
     "output_type": "stream",
     "text": [
      "Quantos livros você pegou no dia 3?  3\n"
     ]
    },
    {
     "name": "stdout",
     "output_type": "stream",
     "text": [
      "\n",
      "No dia 3, você não excedeu o limite de livros.\n",
      "\n",
      "Parabéns por seguir as regras da biblioteca durante todo o mês!\n"
     ]
    }
   ],
   "source": [
    "LIMITE_LIVROS = 5\n",
    "MULTA_POR_LIVRO = 2.00\n",
    "\n",
    "numero_de_dias = int(input(\"Informe o número de dias em que você pegou livros neste mês: \"))\n",
    "total_livros_excedentes = 0\n",
    "total_multa = 0\n",
    "\n",
    "\n",
    "for dia in range(1, numero_de_dias + 1):\n",
    "    \n",
    "    numero_de_livros = int(input(f\"Quantos livros você pegou no dia {dia}? \"))\n",
    "    \n",
    "  \n",
    "    excesso = max(0, numero_de_livros - LIMITE_LIVROS)\n",
    "    multa = excesso * MULTA_POR_LIVRO\n",
    "    \n",
    "   \n",
    "    if excesso > 0:\n",
    "        print(f\"\\nNo dia {dia}, você excedeu em {excesso} livros e deve pagar R${multa:.2f} de multa.\")\n",
    "    else:\n",
    "        print(f\"\\nNo dia {dia}, você não excedeu o limite de livros.\")\n",
    "    \n",
    "    \n",
    "    total_livros_excedentes += excesso\n",
    "    total_multa += multa\n",
    "    \n",
    "\n",
    "if total_livros_excedentes > 0:\n",
    "    print(f\"\\nAo longo do mês, você excedeu um total de {total_livros_excedentes} livros e deve pagar R${total_multa:.2f} de multa.\")\n",
    "else:\n",
    "    print(\"\\nParabéns por seguir as regras da biblioteca durante todo o mês!\")\n",
    "    \n",
    "    "
   ]
  }
 ],
 "metadata": {
  "kernelspec": {
   "display_name": "Python 3 (ipykernel)",
   "language": "python",
   "name": "python3"
  },
  "language_info": {
   "codemirror_mode": {
    "name": "ipython",
    "version": 3
   },
   "file_extension": ".py",
   "mimetype": "text/x-python",
   "name": "python",
   "nbconvert_exporter": "python",
   "pygments_lexer": "ipython3",
   "version": "3.12.0"
  }
 },
 "nbformat": 4,
 "nbformat_minor": 5
}
