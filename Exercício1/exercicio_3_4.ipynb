{
 "cells": [
  {
   "cell_type": "code",
   "execution_count": null,
   "id": "f374c67e-edc3-4746-ac94-5fce78bf88c6",
   "metadata": {},
   "outputs": [],
   "source": [
    "\"\"\"\n",
    "Exercício Análise de Desempenho do Aluno\n",
    "\n",
    "Objetivo: Desenvolver um programa que avalie o desempenho de um aluno ao\n",
    "longo dos bimestres. Para isso, o programa deve solicitar as quatro\n",
    "notas bimestrais do aluno e, com base nelas, realizar as seguintes ações:\n",
    "\n",
    "    1. Calcular e exibir a média das notas.\n",
    "    2. Determinar e mostrar a maior e a menor nota entre as inseridas.\n",
    "    3. Com base na média, informar ao usuário se o aluno está aprovado, \n",
    "    em recuperação ou reprovado. Considere os seguintes critérios:\n",
    "        - Aprovado: média >= 7\n",
    "        - Em recuperação: 5 <= média < 7\n",
    "        - Reprovado: média < 5\n",
    "        \n",
    "    4. Calcular e mostrar a quantidade de notas que estão acima da média calculada.\n",
    "\"\"\""
   ]
  },
  {
   "cell_type": "code",
   "execution_count": 4,
   "id": "3bde75d4-c0f6-456c-8c9c-e20d7f52f158",
   "metadata": {},
   "outputs": [
    {
     "name": "stdin",
     "output_type": "stream",
     "text": [
      "Iforme a 1ª nota:  3\n",
      "Iforme a 2ª nota:  2\n",
      "Iforme a 3ª nota:  5\n",
      "Iforme a 4ª nota:  6\n"
     ]
    },
    {
     "name": "stdout",
     "output_type": "stream",
     "text": [
      "A maior nota é: 6.0 \n",
      "A menor nota é: 2.0\n",
      "Sua média foi 4.0 você está reprovado..\n"
     ]
    }
   ],
   "source": [
    "notas = []\n",
    "\n",
    "for i in range(4):\n",
    "    nota_nova = float(input(f'Iforme a {i+1}ª nota: '))\n",
    "    notas.append(nota_nova)\n",
    "\n",
    "print(f'A maior nota é: {max(notas)} \\nA menor nota é: {min(notas)}')\n",
    "media = sum(notas) / len(notas)\n",
    "\n",
    "if media >= 7:\n",
    "    print(f'Sua média foi {media} você foi aprovado.')     \n",
    "elif media >= 5:\n",
    "    print(f'Sua média foi {media} você está em recuperação.')\n",
    "else:\n",
    "    print(f'Sua média foi {media} você está reprovado..')\n"
   ]
  },
  {
   "cell_type": "code",
   "execution_count": null,
   "id": "30adffa8-5097-4701-a2fc-8b1be6c54196",
   "metadata": {},
   "outputs": [],
   "source": [
    "\"\"\"\n",
    "Exercício Cálculo do Salário com Horas Extras e Imposto de Renda\n",
    "\n",
    "Objetivo: Desenvolver um programa que ajude o usuário a entender a \n",
    "composição do seu salário mensal. O programa deve considerar o valor \n",
    "recebido por hora, as horas trabalhadas no mês, o cálculo de horas \n",
    "extras e o desconto do imposto de renda.\n",
    "\n",
    "Instruções:\n",
    "\n",
    "    1. Solicite ao usuário o valor que ele ganha por hora.\n",
    "    2. Pergunte quantas horas foram trabalhadas no mês.\n",
    "    3. Calcule o salário bruto multiplicando o valor por hora \n",
    "    pelas horas trabalhadas.\n",
    "    \n",
    "    4. Se o usuário tiver trabalhado mais de 160 horas no mês, \n",
    "    calcule o valor das horas extras. Cada hora extra deve ser \n",
    "    compensada com um adicional de 50% sobre o valor da hora comum.\n",
    "    \n",
    "    5. Calcule o imposto de renda sobre o salário (considerando as horas extras). \n",
    "    O imposto de renda tem uma taxa fixa de 11% sobre o salário.\n",
    "    \n",
    "    6. Mostre ao usuário uma descrição detalhada contendo:\n",
    "        - Salário Bruto.\n",
    "        - Valor das Horas Extras (se aplicável).\n",
    "        - Valor do Imposto de Renda.\n",
    "        - Salário Líquido (Salário Bruto + Horas Extras - Imposto de Renda).\n",
    "\"\"\""
   ]
  },
  {
   "cell_type": "code",
   "execution_count": null,
   "id": "e996c6aa-cc05-44c8-9551-a2a59ab25b83",
   "metadata": {},
   "outputs": [],
   "source": [
    "\n"
   ]
  }
 ],
 "metadata": {
  "kernelspec": {
   "display_name": "Python 3 (ipykernel)",
   "language": "python",
   "name": "python3"
  },
  "language_info": {
   "codemirror_mode": {
    "name": "ipython",
    "version": 3
   },
   "file_extension": ".py",
   "mimetype": "text/x-python",
   "name": "python",
   "nbconvert_exporter": "python",
   "pygments_lexer": "ipython3",
   "version": "3.12.0"
  }
 },
 "nbformat": 4,
 "nbformat_minor": 5
}
