{
 "cells": [
  {
   "cell_type": "code",
   "execution_count": 1,
   "id": "9e8f5a91-d047-4bd8-82bd-d9d55b6a577c",
   "metadata": {},
   "outputs": [
    {
     "data": {
      "text/plain": [
       "'\\nExercício Análise de Números\\n\\nObjetivo: Desenvolver um programa que solicita ao usuário a entrada de \\num número e, com base nesse número, realiza as seguintes operações:\\n\\n    1. Mostrar o número informado.\\n    2. Informar se o número é par ou ímpar.\\n    3. Informar se o número é positivo, negativo ou zero.\\n    4. Se o número for positivo, calcular e mostrar sua raiz quadrada.\\n\\n'"
      ]
     },
     "execution_count": 1,
     "metadata": {},
     "output_type": "execute_result"
    }
   ],
   "source": [
    "\"\"\"\n",
    "Exercício Análise de Números\n",
    "\n",
    "Objetivo: Desenvolver um programa que solicita ao usuário a entrada de \n",
    "um número e, com base nesse número, realiza as seguintes operações:\n",
    "\n",
    "    1. Mostrar o número informado.\n",
    "    2. Informar se o número é par ou ímpar.\n",
    "    3. Informar se o número é positivo, negativo ou zero.\n",
    "    4. Se o número for positivo, calcular e mostrar sua raiz quadrada.\n",
    "\n",
    "\"\"\""
   ]
  },
  {
   "cell_type": "code",
   "execution_count": 9,
   "id": "d2fd23c7-9587-4b0b-b4b8-457dcbbf717c",
   "metadata": {},
   "outputs": [],
   "source": [
    "import math\n",
    "def par_ou_import(numero):\n",
    "    resposta = numero % 2\n",
    "    if resposta == 0:\n",
    "        return 'Par'\n",
    "    return 'Impár'\n",
    "\n",
    "\n",
    "def positivo_negativo_zero(numero):\n",
    "    if numero == 0:\n",
    "        return 'zero'\n",
    "\n",
    "    if numero > 0:\n",
    "        return 'positivo'\n",
    "\n",
    "    return 'pegativo'\n",
    "\n",
    "def raiz_quadrada(numero):\n",
    "    numero = float(numero)\n",
    "    return math.sqrt(numero)\n",
    "    "
   ]
  },
  {
   "cell_type": "code",
   "execution_count": 11,
   "id": "b39e0622-f726-4706-a3d0-fab4a4055912",
   "metadata": {},
   "outputs": [
    {
     "name": "stdin",
     "output_type": "stream",
     "text": [
      "Digite um número:  9\n"
     ]
    },
    {
     "name": "stdout",
     "output_type": "stream",
     "text": [
      "O número informado é 9.0\n",
      "O número apresentando é Impár\n",
      "O número é positivo\n",
      "O número tem raiz quadrada de 3.0\n"
     ]
    }
   ],
   "source": [
    "numero = input('Digite um número: ')\n",
    "numero = float(numero)\n",
    "\n",
    "print(f'O número informado é {numero}')\n",
    "print(f'O número apresentando é {par_ou_import(numero)}')\n",
    "print(f'O número é {positivo_negativo_zero(numero)}')\n",
    "\n",
    "if numero > 0:\n",
    "    print(f'O número tem raiz quadrada de {raiz_quadrada(numero)}')\n"
   ]
  },
  {
   "cell_type": "code",
   "execution_count": null,
   "id": "475c4b0a-170e-4713-968b-dd3c382d8e07",
   "metadata": {},
   "outputs": [],
   "source": [
    "\"\"\"\n",
    "Exercício Operações Matemáticas Básicas\n",
    "\n",
    "Objetivo: Desenvolver um programa que solicite ao usuário a entrada\n",
    "de dois números e, com base nesses números, realize as seguintes operações:\n",
    "\n",
    "    1. Calcular e mostrar a soma dos dois números.\n",
    "    \n",
    "    2. Calcular e mostrar a subtração do primeiro número pelo segundo.\n",
    "    \n",
    "    3. Calcular e mostrar a multiplicação dos dois números.\n",
    "    \n",
    "    4. Calcular e mostrar a divisão do primeiro número pelo \n",
    "    segundo (se o segundo número não for zero).\n",
    "    \n",
    "    5. Verificar e informar se algum dos números (ou ambos) é zero.\n",
    "    \n",
    "    6. Calcular e mostrar a média dos dois números.\n",
    "    \n",
    "    7. Comparar os dois números e informar qual é maior ou se são iguais.\n",
    "    \n",
    "\"\"\""
   ]
  },
  {
   "cell_type": "code",
   "execution_count": 13,
   "id": "cb314e04-7a74-4502-800f-4319aa1f325a",
   "metadata": {},
   "outputs": [],
   "source": [
    "# Funções\n",
    "\n",
    "def soma(a, b):\n",
    "    return a + b\n",
    "\n",
    "def subtracao(a, b):\n",
    "    return a - b\n",
    "\n",
    "def multiplicacao(a, b):\n",
    "    return a * b\n",
    "\n",
    "def divisao(a, b):\n",
    "    if b == 0:\n",
    "        return 'Impossível dividir por zero.'\n",
    "    return a / b\n",
    "\n",
    "def zero(a, b):\n",
    "    numeros = (a, b,)\n",
    "    return 0 in numeros\n",
    "\n",
    "def media(a, b):\n",
    "    return a * b / 2\n",
    "\n",
    "def qual_e_maior(a, b):\n",
    "    if a == b:\n",
    "        return 'iguais'\n",
    "    if a > b:\n",
    "        return a\n",
    "    return b\n",
    "    "
   ]
  },
  {
   "cell_type": "code",
   "execution_count": null,
   "id": "badf89a9-6b43-422c-b172-9fa46f2d6733",
   "metadata": {},
   "outputs": [],
   "source": [
    "numero1 = float(input('Informe o primeiro número: '))\n",
    "numero2 = float(input('Informe o segundo número: '))\n",
    "\n",
    "\n",
    "print(f'{soma(numero1, numero2)}')\n",
    "print(f'{subtracao(numero1, numero2)}')\n",
    "print(f'{multiplicacao(numero1, numero2)}')\n",
    "print(f'{divisao(numero1, numero2)}')\n",
    "print(f'{zero(numero1, numero2)}')\n",
    "print(f'{media(numero1, numero2)}')\n",
    "print(f'{qual_e_maior(numero1, numero2)}')\n",
    "\n",
    "\n"
   ]
  }
 ],
 "metadata": {
  "kernelspec": {
   "display_name": "Python 3 (ipykernel)",
   "language": "python",
   "name": "python3"
  },
  "language_info": {
   "codemirror_mode": {
    "name": "ipython",
    "version": 3
   },
   "file_extension": ".py",
   "mimetype": "text/x-python",
   "name": "python",
   "nbconvert_exporter": "python",
   "pygments_lexer": "ipython3",
   "version": "3.12.0"
  }
 },
 "nbformat": 4,
 "nbformat_minor": 5
}
