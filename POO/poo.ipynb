{
 "cells": [
  {
   "cell_type": "code",
   "execution_count": 6,
   "id": "7483d6dc-bd43-451d-a968-bde74e46704b",
   "metadata": {},
   "outputs": [],
   "source": [
    "# 1 Classes e Objetos\n",
    "\n",
    "class Livro:\n",
    "    def __init__(self, titulo, autor, ano):\n",
    "        self.titulo = titulo\n",
    "        self.autor = autor\n",
    "        self.ano = ano\n",
    "\n",
    "    def dados_do_livro(self):\n",
    "        return f'O livro {self.titulo} foi escrito por {self.autor} e lançado em {self.ano}.'"
   ]
  },
  {
   "cell_type": "code",
   "execution_count": 7,
   "id": "b00ac109-5f52-45ca-a48e-c2b5dcf4e325",
   "metadata": {},
   "outputs": [],
   "source": [
    "meu_livro = Livro('Harry Potter e a Pedra Filosofal', 'J. K. Rowling', 1997)"
   ]
  },
  {
   "cell_type": "code",
   "execution_count": 10,
   "id": "c820bc40-8666-4670-a173-754346ab78b7",
   "metadata": {},
   "outputs": [
    {
     "name": "stdout",
     "output_type": "stream",
     "text": [
      "Harry Potter e a Pedra Filosofal\n",
      "J. K. Rowling\n",
      "1997\n",
      "O livro Harry Potter e a Pedra Filosofal foi escrito por J. K. Rowling e lançado em 1997.\n"
     ]
    }
   ],
   "source": [
    "print(meu_livro.titulo)\n",
    "print(meu_livro.autor)\n",
    "print(meu_livro.ano)\n",
    "\n",
    "print(meu_livro.dados_do_livro())"
   ]
  },
  {
   "cell_type": "code",
   "execution_count": null,
   "id": "8136e110-feb8-48ff-b373-3fdad0a47477",
   "metadata": {},
   "outputs": [
    {
     "name": "stdout",
     "output_type": "stream",
     "text": [
      "\n",
      "--- Menu ---\n",
      "1. Adicionar novo carro\n",
      "2. Exibir informações dos carros\n",
      "3. Acelerrar um carro \n",
      "4. Frear um carro\n",
      "5. Sair\n"
     ]
    },
    {
     "name": "stdin",
     "output_type": "stream",
     "text": [
      "Informe a opção desejada:  1\n",
      "Informe a marca do carro:  t\n",
      "Informe o modelo do carro:  t\n",
      "Informe a velocidade do carro:  t\n"
     ]
    },
    {
     "name": "stdout",
     "output_type": "stream",
     "text": [
      "\n",
      "--- Menu ---\n",
      "1. Adicionar novo carro\n",
      "2. Exibir informações dos carros\n",
      "3. Acelerrar um carro \n",
      "4. Frear um carro\n",
      "5. Sair\n"
     ]
    },
    {
     "name": "stdin",
     "output_type": "stream",
     "text": [
      "Informe a opção desejada:  3\n",
      "Informe qual modelo deseja acelerar:  t\n"
     ]
    },
    {
     "name": "stdout",
     "output_type": "stream",
     "text": [
      "Velocidade atual: 10KM/h.\n",
      "\n",
      "--- Menu ---\n",
      "1. Adicionar novo carro\n",
      "2. Exibir informações dos carros\n",
      "3. Acelerrar um carro \n",
      "4. Frear um carro\n",
      "5. Sair\n"
     ]
    }
   ],
   "source": [
    "class Carro:\n",
    "    def __init__(self, marca, modelo, cor):\n",
    "        self.marca = marca\n",
    "        self.modelo = modelo\n",
    "        self.cor = cor\n",
    "        self.velocidade = 0\n",
    "\n",
    "    def inf_carros(self):\n",
    "        print(f'Marca: {self.marca} - Modelo: {self.modelo} - Cor: {self.cor} ')\n",
    "\n",
    "    def acelerar(self):\n",
    "        self.velocidade += 10\n",
    "        print(f'{self.modelo} esta à atual: {self.velocidade}KM/h.')\n",
    "\n",
    "    def frear(self):\n",
    "        if self.velocidade <= 0:\n",
    "            self.velocidade == 0\n",
    "            print(f'{self.modelo} esta à atual: {self.velocidade}KM/h.')\n",
    "        else:\n",
    "            self.velocidade -= 10\n",
    "            print(f'{self.modelo} esta à atual: {self.velocidade}KM/h.')\n",
    "\n",
    "lista_de_carros = []\n",
    "\n",
    "while True:\n",
    "    print(f'\\n--- Menu ---')\n",
    "    print('1. Adicionar novo carro')\n",
    "    print('2. Exibir informações dos carros')\n",
    "    print('3. Acelerrar um carro ')\n",
    "    print('4. Frear um carro')\n",
    "    print('5. Sair')\n",
    "\n",
    "    resposta = input('Informe a opção desejada: ')\n",
    "\n",
    "    if resposta == '1':\n",
    "        \n",
    "        marca = input('Informe a marca do carro: ')\n",
    "        modelo = input('Informe o modelo do carro: ')\n",
    "        cor = input('Informe a velocidade do carro: ')\n",
    "        novo_carro = Carro(marca, modelo, cor)\n",
    "        lista_de_carros.append(novo_carro)\n",
    "    \n",
    "    elif resposta == '2':\n",
    "        \n",
    "       if lista_de_carros:\n",
    "           for carro in lista_de_carros:\n",
    "               carro.inf_carros()\n",
    "       else:\n",
    "           print('Nehum carro adicionado.')\n",
    "            \n",
    "    elif resposta == '3':\n",
    "        modelo = input('Informe qual modelo deseja acelerar: ')\n",
    "\n",
    "        for carro in lista_de_carros:\n",
    "            \n",
    "            if modelo == carro.modelo:\n",
    "                carro.acelerar()\n",
    "                pass\n",
    "            else:\n",
    "                print(f'Carro não encontrado')\n",
    "    elif resposta == '4':\n",
    "        modelo = input('Informe qual modelo deseja fear: ')\n",
    "\n",
    "        for carro in lista_de_carros:\n",
    "            \n",
    "            if modelo == carro.modelo:\n",
    "                carro.frear()\n",
    "                pass\n",
    "            else:\n",
    "                print(f'Carro não encontrado')\n",
    "    elif resposta == '5':\n",
    "        break\n",
    "    else:\n",
    "        print('Essa opção não existe.')\n",
    "    \n",
    "\n",
    "    \n"
   ]
  }
 ],
 "metadata": {
  "kernelspec": {
   "display_name": "Python 3 (ipykernel)",
   "language": "python",
   "name": "python3"
  },
  "language_info": {
   "codemirror_mode": {
    "name": "ipython",
    "version": 3
   },
   "file_extension": ".py",
   "mimetype": "text/x-python",
   "name": "python",
   "nbconvert_exporter": "python",
   "pygments_lexer": "ipython3",
   "version": "3.12.0"
  }
 },
 "nbformat": 4,
 "nbformat_minor": 5
}
